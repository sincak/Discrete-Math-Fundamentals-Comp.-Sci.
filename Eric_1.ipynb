{
  "nbformat": 4,
  "nbformat_minor": 0,
  "metadata": {
    "colab": {
      "name": "Eric 1.ipynb",
      "provenance": [],
      "toc_visible": true
    },
    "kernelspec": {
      "name": "python3",
      "display_name": "Python 3"
    }
  },
  "cells": [
    {
      "cell_type": "code",
      "metadata": {
        "id": "g6ylYrbUgsql",
        "colab_type": "code",
        "colab": {}
      },
      "source": [
        ""
      ],
      "execution_count": null,
      "outputs": []
    },
    {
      "cell_type": "markdown",
      "metadata": {
        "id": "3OSCK1B-g3YA",
        "colab_type": "text"
      },
      "source": [
        ""
      ]
    },
    {
      "cell_type": "code",
      "metadata": {
        "id": "kvsPkLlYoc5Q",
        "colab_type": "code",
        "colab": {
          "base_uri": "https://localhost:8080/",
          "height": 425
        },
        "outputId": "e836c7a1-9445-446e-d565-e8cd8cd93587"
      },
      "source": [
        "MAX=12\n",
        "k=0\n",
        "for i in range(1,MAX+1,1):\n",
        "  k=k+i**2\n",
        "  print(k,'\\n')\n"
      ],
      "execution_count": 9,
      "outputs": [
        {
          "output_type": "stream",
          "text": [
            "1 \n",
            "\n",
            "5 \n",
            "\n",
            "14 \n",
            "\n",
            "30 \n",
            "\n",
            "55 \n",
            "\n",
            "91 \n",
            "\n",
            "140 \n",
            "\n",
            "204 \n",
            "\n",
            "285 \n",
            "\n",
            "385 \n",
            "\n",
            "506 \n",
            "\n",
            "650 \n",
            "\n"
          ],
          "name": "stdout"
        }
      ]
    }
  ]
}