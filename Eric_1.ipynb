{
  "nbformat": 4,
  "nbformat_minor": 0,
  "metadata": {
    "colab": {
      "name": "Eric 1.ipynb",
      "provenance": [],
      "toc_visible": true
    },
    "kernelspec": {
      "name": "python3",
      "display_name": "Python 3"
    }
  },
  "cells": [
    {
      "cell_type": "code",
      "metadata": {
        "id": "g6ylYrbUgsql",
        "colab_type": "code",
        "colab": {}
      },
      "source": [
        ""
      ],
      "execution_count": null,
      "outputs": []
    },
    {
      "cell_type": "markdown",
      "metadata": {
        "id": "3OSCK1B-g3YA",
        "colab_type": "text"
      },
      "source": [
        ""
      ]
    },
    {
      "cell_type": "code",
      "metadata": {
        "id": "kvsPkLlYoc5Q",
        "colab_type": "code",
        "colab": {
          "base_uri": "https://localhost:8080/",
          "height": 391
        },
        "outputId": "7f6c018f-b7de-4bba-e6d7-4822036fee14"
      },
      "source": [
        "MAX=12\n",
        "k=0\n",
        "for n in range(1,MAX,1):\n",
        "  for i in range(1,n+1,1):\n",
        "    k=k+i\n",
        "  k=k+n\n",
        "  print(k,'\\n')\n"
      ],
      "execution_count": 7,
      "outputs": [
        {
          "output_type": "stream",
          "text": [
            "2 \n",
            "\n",
            "7 \n",
            "\n",
            "16 \n",
            "\n",
            "30 \n",
            "\n",
            "50 \n",
            "\n",
            "77 \n",
            "\n",
            "112 \n",
            "\n",
            "156 \n",
            "\n",
            "210 \n",
            "\n",
            "275 \n",
            "\n",
            "352 \n",
            "\n"
          ],
          "name": "stdout"
        }
      ]
    }
  ]
}