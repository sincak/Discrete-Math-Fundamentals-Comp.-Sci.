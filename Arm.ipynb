{
  "nbformat": 4,
  "nbformat_minor": 0,
  "metadata": {
    "colab": {
      "name": "Arm.ipynb",
      "provenance": []
    },
    "kernelspec": {
      "name": "python3",
      "display_name": "Python 3"
    }
  },
  "cells": [
    {
      "cell_type": "code",
      "metadata": {
        "id": "2w9jsFrT-dMr",
        "colab_type": "code",
        "colab": {}
      },
      "source": [
        "import math"
         "import pygames"
      ],
      "execution_count": null,
      "outputs": []
    },
    {
      "cell_type": "markdown",
      "metadata": {
        "id": "8G7XPwfhASpC",
        "colab_type": "text"
      },
      "source": [
        "**PROSTHETIC ARM PROJECT**"
      ]
    },
    {
      "cell_type": "markdown",
      "metadata": {
        "id": "v_odk58KBurC",
        "colab_type": "text"
      },
      "source": [
        "[3d Arm (Sketchup Model - NATALIE YEUNG)](https://3dwarehouse.sketchup.com/model/1e906132788ba984d1fac70e4e91c68/Left-Prosthetic-Arm)"
      ]
    },
    {
      "cell_type": "markdown",
      "metadata": {
        "id": "vaxPLuUi-f-1",
        "colab_type": "text"
      },
      "source": [
        "[Linakges in Geogebra](https://www.geogebra.org/m/m3DUHuHG)"
      ]
    },
    {
      "cell_type": "code",
      "metadata": {
        "id": "CItZx44J-9WD",
        "colab_type": "code",
        "colab": {}
      },
      "source": [
        ""
      ],
      "execution_count": null,
      "outputs": []
    },
    {
      "cell_type": "markdown",
      "metadata": {
        "id": "2KQ4Lr8L-6zF",
        "colab_type": "text"
      },
      "source": [
        "Project Description"
      ]
    }
  ]
}
