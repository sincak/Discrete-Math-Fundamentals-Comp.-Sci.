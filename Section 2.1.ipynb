{
  "nbformat": 4,
  "nbformat_minor": 0,
  "metadata": {
    "colab": {
      "name": "DM-fm-CS 2.1.ipynb",
      "provenance": [],
      "toc_visible": true
    },
    "kernelspec": {
      "name": "python3",
      "display_name": "Python 3"
    }
  },
  "cells": [
    {
      "cell_type": "markdown",
      "metadata": {
        "id": "VSi5zExslc8k",
        "colab_type": "text"
      },
      "source": [
        "# DISCRETE MATHEMATICS WITH FUNDAMENTALS OF COMPUTER SCIENCE\n",
        "#SECTION 2.1\n",
        "(c) 2020\n",
        "John Sincak\n",
        "All Rights Reserved"
      ]
    },
    {
      "cell_type": "markdown",
      "metadata": {
        "id": "9y9dTC4mVYJA",
        "colab_type": "text"
      },
      "source": [
        "# **PASCAL'S TRIANGLE AND THE BINOMIAL THEOREM**"
      ]
    },
    {
      "cell_type": "code",
      "metadata": {
        "id": "kvsPkLlYoc5Q",
        "colab_type": "code",
        "colab": {
          "base_uri": "https://localhost:8080/",
          "height": 151
        },
        "outputId": "2946ffe9-0ff8-4ac6-f547-c625ff106df4"
      },
      "source": [
        "'''\n",
        "<--Press the PLAY button to generate Pascal's Triangle to the desired row\n",
        "'''\n",
        "def myTriangle(number):\n",
        "\ttotalRows = []\n",
        "\tif number == 0 :\n",
        "\t\treturn totalRows\n",
        "\tfor rowNumber in range(1,number+1):\n",
        "\t\trowList = [1,]\n",
        "\t\tif rowNumber == 1:\n",
        "\t\t\tpass\n",
        "\t\telse:\n",
        "\t\t\tpreviousRow = totalRows[rowNumber-2]\n",
        "\t\t\tfor i in range(len(previousRow)):\n",
        "\t\t\t\tif i == len(previousRow)-1:\n",
        "\t\t\t\t\tbreak\n",
        "\t\t\t\telse: \n",
        "\t\t\t\t\tsumNumber=  previousRow[i] + previousRow[i+1]\n",
        "\t\t\t\t\trowList.append(sumNumber)\n",
        "\t\t\t\trowList.append(1)\n",
        "\t\ttotalRows.append(rowList)\n",
        "\treturn totalRows\n",
        "\n",
        "def makeTriangle(n):\n",
        "\tallRows = []\n",
        "\tif n == 0 :\n",
        "\t\treturn allRows\n",
        "\n",
        "\tfor rowNumber in range(1,n+1):\n",
        "\t\trowList = [1,]\n",
        "\t\tif rowNumber == 1:\n",
        "\t\t\tpass\n",
        "\n",
        "\t\telse:\n",
        "\t\t\tpreviousRow = allRows[rowNumber-2]\n",
        "\t\t\tfor i in range(len(previousRow)):\n",
        "\t\t\t\tif i == len(previousRow)-1:\n",
        "\t\t\t\t\tbreak\n",
        "\t\t\t\telse: \n",
        "\t\t\t\t\tsumNumber=  previousRow[i] + previousRow[i+1]\n",
        "\t\t\t\t\trowList.append(sumNumber)\n",
        "\t\t\trowList.append(1)\n",
        "\t\tallRows.append(rowList)\n",
        "\treturn allRows\n",
        "\n",
        "def printNeat(array):\n",
        "\tsize = len(array)\n",
        "\tfor i in range(len(array)):\n",
        "\t\tspace = \" \"\n",
        "\t\tprint((size-i)*space, array[i], (size-i)*space)\n",
        "\n",
        "n = int(input(\"How many rows do you want? \"))\n",
        "pascalData = makeTriangle(n)\n",
        "printNeat(pascalData)\n",
        "\n"
      ],
      "execution_count": null,
      "outputs": [
        {
          "output_type": "stream",
          "text": [
            "How many rows do you want? 7\n",
            "        [1]        \n",
            "       [1, 1]       \n",
            "      [1, 2, 1]      \n",
            "     [1, 3, 3, 1]     \n",
            "    [1, 4, 6, 4, 1]    \n",
            "   [1, 5, 10, 10, 5, 1]   \n",
            "  [1, 6, 15, 20, 15, 6, 1]  \n"
          ],
          "name": "stdout"
        }
      ]
    },
    {
      "cell_type": "markdown",
      "metadata": {
        "id": "XoxtQZX7kqZE",
        "colab_type": "text"
      },
      "source": [
        "#Combination Function"
      ]
    },
    {
      "cell_type": "markdown",
      "metadata": {
        "id": "gKh4vWloHcH5",
        "colab_type": "text"
      },
      "source": [
        "$\\text{Choice of 2 out of 6 (distinct pairs) *independent of order*:}$\n",
        "$\\binom{6}{2}$\n",
        "$\\text{Definition of Combination Function: }$\n",
        "$\\frac{n!}{r!(n-r)!}$\n",
        "\n",
        "\\begin{matrix}\n",
        "&&\\binom{0}{0}&\\,\\\\\n",
        "&\\binom{1}{0}&\\,&\\binom{1}{1}\\\\\n",
        "\\binom{2}{0}&&\\binom{2}{1}&&\\binom{2}{2}&\\\\\n",
        "\\vdots&\\vdots&\\,&\\vdots&\\vdots\\\\\n",
        "&&\\cdots\n",
        "\\end{matrix}\n",
        "\n",
        "\\begin{matrix}\n",
        "&&\\binom{N}{R}&\\,\\\\\n",
        "&\\binom{N+1}{R}&\\,&\\binom{N+1}{R+1}\\\\\n",
        "\\binom{N+2}{R}&&\\binom{N+2}{R+1}&&\\binom{N+2}{R+2}&\\\\\n",
        "\\vdots&\\vdots&\\,&\\vdots&\\vdots\\\\\n",
        "&&\\cdots\n",
        "\\end{matrix}\n",
        "\n"
      ]
    },
    {
      "cell_type": "markdown",
      "metadata": {
        "id": "kpiJ5LunizHa",
        "colab_type": "text"
      },
      "source": [
        "**Exercises**\n",
        "\n",
        "1.   If n=N+1 and r=R, find $\\binom{n+2}{r+1}$ in terms of N and R.\n",
        "\n",
        "\n",
        "2.   Prove that $\\binom{n}{r}+\\binom{n}{r+1}=\\binom{n+1}{r}$ using the factorial definiton of the combination function.\n"
      ]
    },
    {
      "cell_type": "code",
      "metadata": {
        "id": "y4KxvARrWIHh",
        "colab_type": "code",
        "colab": {}
      },
      "source": [
        ""
      ],
      "execution_count": null,
      "outputs": []
    }
  ]
}